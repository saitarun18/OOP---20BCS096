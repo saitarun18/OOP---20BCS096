{
 "cells": [
  {
   "cell_type": "code",
   "execution_count": 1,
   "id": "optional-jesus",
   "metadata": {},
   "outputs": [
    {
     "name": "stdout",
     "output_type": "stream",
     "text": [
      "45\n",
      "x is greater than 5\n"
     ]
    }
   ],
   "source": [
    "x = int(input())\n",
    "if x > 5:\n",
    "    print(\"x is greater than 5\")\n",
    "if x < 5:\n",
    "    print(\"x is smaller than 5\")\n",
    "if x == 5:\n",
    "    print(\"x is equal to 5\")"
   ]
  },
  {
   "cell_type": "code",
   "execution_count": 2,
   "id": "married-chess",
   "metadata": {},
   "outputs": [
    {
     "name": "stdout",
     "output_type": "stream",
     "text": [
      "Bigger than 6\n",
      "Between 6 and 45\n"
     ]
    }
   ],
   "source": [
    "num = 10\n",
    "if num > 6:\n",
    "    print(\"Bigger than 6\")\n",
    "    if num <= 45:\n",
    "        print(\"Between 6 and 45\")"
   ]
  },
  {
   "cell_type": "code",
   "execution_count": 3,
   "id": "infinite-interval",
   "metadata": {},
   "outputs": [
    {
     "name": "stdout",
     "output_type": "stream",
     "text": [
      "Adult\n"
     ]
    }
   ],
   "source": [
    "#if-else Statements\n",
    "age = 18\n",
    "if age == 1:\n",
    "    print(\"Baby\")\n",
    "elif age == 2:\n",
    "        print(\"Baby who Can Walk\") \n",
    "elif age == 16:\n",
    "        print(\"Adolecent\")\n",
    "elif age == 18:\n",
    "         print(\"Adult\")\n",
    "else:\n",
    "    print(\"Middle aged\")"
   ]
  },
  {
   "cell_type": "code",
   "execution_count": 4,
   "id": "strong-advancement",
   "metadata": {},
   "outputs": [
    {
     "name": "stdout",
     "output_type": "stream",
     "text": [
      "True\n",
      "False\n",
      "True\n"
     ]
    }
   ],
   "source": [
    "my_boolean = True\n",
    "print(my_boolean)\n",
    "print(2==5)\n",
    "print(\"hello\" == \"hello\")"
   ]
  },
  {
   "cell_type": "code",
   "execution_count": 5,
   "id": "communist-documentation",
   "metadata": {},
   "outputs": [
    {
     "name": "stdout",
     "output_type": "stream",
     "text": [
      "True\n",
      "True\n",
      "False\n",
      "True\n",
      "True\n"
     ]
    }
   ],
   "source": [
    "x = 6\n",
    "\n",
    "print(x != 8)\n",
    "print(x > 5)\n",
    "print(x < 2)\n",
    "print(x >= 6)\n",
    "print(x <= 7)"
   ]
  },
  {
   "cell_type": "code",
   "execution_count": 6,
   "id": "young-rabbit",
   "metadata": {},
   "outputs": [
    {
     "name": "stdout",
     "output_type": "stream",
     "text": [
      "True\n",
      "True\n",
      "True\n"
     ]
    }
   ],
   "source": [
    "#Boolean Logicals\n",
    "print(1 == 1 and 2 == 2)\n",
    "print(2 == 2 or 2 == 6)\n",
    "print(not 2 > 9)"
   ]
  },
  {
   "cell_type": "code",
   "execution_count": 7,
   "id": "specialized-antibody",
   "metadata": {},
   "outputs": [
    {
     "name": "stdout",
     "output_type": "stream",
     "text": [
      "3\n",
      "100\n",
      "1\n",
      "100\n",
      "5\n",
      "100\n",
      "6\n",
      "100\n"
     ]
    }
   ],
   "source": [
    "# While Loop\n",
    "x = 1\n",
    "a_hit = 10\n",
    "a_miss = -30\n",
    "start = 100\n",
    "while x < 5:\n",
    "    game = input()\n",
    "    if game == \"hit\":\n",
    "        start += ahit\n",
    "    elif game == \"miss\":\n",
    "        start += amiss\n",
    "    x += 1\n",
    "    print(start)"
   ]
  },
  {
   "cell_type": "code",
   "execution_count": null,
   "id": "comparable-killing",
   "metadata": {},
   "outputs": [],
   "source": [
    "for val in \"Helpme\":\n",
    "    if val == \"p\":\n",
    "        break\n",
    "        print(val)\n",
    "        \n",
    "print(\"Finished\")"
   ]
  },
  {
   "cell_type": "code",
   "execution_count": null,
   "id": "loose-wrestling",
   "metadata": {},
   "outputs": [],
   "source": [
    "for val in \"Helpme\":\n",
    "    if val == \"l\":\n",
    "        continue\n",
    "        print(val)\n",
    "        \n",
    "print(\"Finished\")"
   ]
  },
  {
   "cell_type": "code",
   "execution_count": null,
   "id": "requested-graduation",
   "metadata": {},
   "outputs": [],
   "source": []
  },
  {
   "cell_type": "code",
   "execution_count": null,
   "id": "documentary-things",
   "metadata": {},
   "outputs": [],
   "source": []
  }
 ],
 "metadata": {
  "kernelspec": {
   "display_name": "Python 3",
   "language": "python",
   "name": "python3"
  },
  "language_info": {
   "codemirror_mode": {
    "name": "ipython",
    "version": 3
   },
   "file_extension": ".py",
   "mimetype": "text/x-python",
   "name": "python",
   "nbconvert_exporter": "python",
   "pygments_lexer": "ipython3",
   "version": "3.9.1"
  }
 },
 "nbformat": 4,
 "nbformat_minor": 5
}
