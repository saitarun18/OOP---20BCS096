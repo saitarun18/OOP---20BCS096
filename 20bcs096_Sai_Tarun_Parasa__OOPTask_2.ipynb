{
  "nbformat": 4,
  "nbformat_minor": 0,
  "metadata": {
    "colab": {
      "name": "20bcs096_Sai Tarun Parasa _OOPTask - 2.ipynb",
      "provenance": [],
      "authorship_tag": "ABX9TyPEdiH7nZQzYOA9jNehKGnz",
      "include_colab_link": true
    },
    "kernelspec": {
      "name": "python3",
      "display_name": "Python 3"
    },
    "language_info": {
      "name": "python"
    }
  },
  "cells": [
    {
      "cell_type": "markdown",
      "metadata": {
        "id": "view-in-github",
        "colab_type": "text"
      },
      "source": [
        "<a href=\"https://colab.research.google.com/github/saitarun18/OOP---20BCS096/blob/main/20bcs096_Sai_Tarun_Parasa__OOPTask_2.ipynb\" target=\"_parent\"><img src=\"https://colab.research.google.com/assets/colab-badge.svg\" alt=\"Open In Colab\"/></a>"
      ]
    },
    {
      "cell_type": "code",
      "metadata": {
        "colab": {
          "base_uri": "https://localhost:8080/"
        },
        "id": "Ppqsbxs7hhHW",
        "outputId": "5c2c1ded-ea7b-4e5e-a5c8-99e3b939918c"
      },
      "source": [
        "class circle():\n",
        "  def __init__(self,radius):\n",
        "    self.radius = radius\n",
        "  def area(self):\n",
        "    return 3.141*(self.radius)**2\n",
        "  def perimeter(self):\n",
        "    return 6.282*(self.radius)\n",
        "for i in range(3):\n",
        "  r = int(input(\"Enter The Radius(r) : \"))\n",
        "  object = circle(r)\n",
        "  print(\"Area of Circle : \",     round(object.area(),3))\n",
        "  print(\"Perimeter of Circle : \",round(object.perimeter(),3))"
      ],
      "execution_count": null,
      "outputs": [
        {
          "output_type": "stream",
          "name": "stdout",
          "text": [
            "Enter The Radius(r) : 5\n",
            "Area of Circle :  78.525\n",
            "Perimeter of Circle :  31.41\n",
            "Enter The Radius(r) : 45\n",
            "Area of Circle :  6360.525\n",
            "Perimeter of Circle :  282.69\n",
            "Enter The Radius(r) : 65\n",
            "Area of Circle :  13270.725\n",
            "Perimeter of Circle :  408.33\n"
          ]
        }
      ]
    },
    {
      "cell_type": "code",
      "metadata": {
        "colab": {
          "base_uri": "https://localhost:8080/"
        },
        "id": "4M3Bowjy1nWl",
        "outputId": "7a532107-610f-4b2a-a9c8-bac11a9cd973"
      },
      "source": [
        "class Faculty():\n",
        "  def __init__(self,Name,EmpID,Branch,Salary):\n",
        "    self.Name   = Name\n",
        "    self.EmpID  = EmpID\n",
        "    self.Branch = Branch\n",
        "    self.Salary = Salary\n",
        "  def display(self):\n",
        "    print(\"Name : \",self.Name)\n",
        "    print(\"Employee ID : \",self.EmpID)\n",
        "    print(\"Branch : \" ,self.Branch)\n",
        "    print(\"Salary : \",self.Salary)\n",
        "Names  = []\n",
        "Emp_ID = []\n",
        "Branch = []\n",
        "Salary = []\n",
        "Professors = []\n",
        "for i in range(5):\n",
        "  name = input(\"Enter the Name of Faculty: \")\n",
        "  Names.append(name)\n",
        "  emp_id = input(\"Enter the Employee ID: \")\n",
        "  Emp_ID.append(emp_id)\n",
        "  branch = input(\"Enter Branch code: \")\n",
        "  Branch.append(branch)\n",
        "  sal = input(\"Enter Salary amount: \")\n",
        "  Salary.append(sal)\n",
        "  k = Faculty\n",
        "for i in range(5):\n",
        "  Professors.append(Faculty(Names[i],Emp_ID[i],Branch[i],Salary[i]))\n",
        "  Professors[i].display()"
      ],
      "execution_count": null,
      "outputs": [
        {
          "output_type": "stream",
          "name": "stdout",
          "text": [
            "Enter the Name of Faculty: Raj Kumar\n",
            "Enter the Employee ID: 7893\n",
            "Enter Branch code: 1 - CSE\n",
            "Enter Salary amount: 40,000\n",
            "Enter the Name of Faculty: Shiv Kumar\n",
            "Enter the Employee ID: 7894\n",
            "Enter Branch code: 2 - CSE\n",
            "Enter Salary amount: 50,000\n",
            "Enter the Name of Faculty: Sita Kumari\n",
            "Enter the Employee ID: 7895\n",
            "Enter Branch code: 1 - ECE\n",
            "Enter Salary amount: 55,000\n",
            "Enter the Name of Faculty: Ganga Kumari\n",
            "Enter the Employee ID: 7896\n",
            "Enter Branch code: 2 - ECE\n",
            "Enter Salary amount: 60,000\n",
            "Enter the Name of Faculty: Naveen Kumar\n",
            "Enter the Employee ID: 7897\n",
            "Enter Branch code: DSAI\n",
            "Enter Salary amount: 70,000\n",
            "Name :  Raj Kumar\n",
            "Employee ID :  7893\n",
            "Branch :  1 - CSE\n",
            "Salary :  40,000\n",
            "Name :  Shiv Kumar\n",
            "Employee ID :  7894\n",
            "Branch :  2 - CSE\n",
            "Salary :  50,000\n",
            "Name :  Sita Kumari\n",
            "Employee ID :  7895\n",
            "Branch :  1 - ECE\n",
            "Salary :  55,000\n",
            "Name :  Ganga Kumari\n",
            "Employee ID :  7896\n",
            "Branch :  2 - ECE\n",
            "Salary :  60,000\n",
            "Name :  Naveen Kumar\n",
            "Employee ID :  7897\n",
            "Branch :  DSAI\n",
            "Salary :  70,000\n"
          ]
        }
      ]
    },
    {
      "cell_type": "code",
      "metadata": {
        "colab": {
          "base_uri": "https://localhost:8080/"
        },
        "id": "J8MgHMl34mhl",
        "outputId": "0344e322-010f-432a-e738-1b510a3897f3"
      },
      "source": [
        "class Account():\n",
        "  def __init__(self,Account_No,Holder_name,Amount):\n",
        "    self.Account_no  = Account_No\n",
        "    self.Holder_name = Holder_name\n",
        "    self.Amount      = Amount\n",
        "  def Account_details(self):\n",
        "    print(\"Account Number      : \",self.Account_no)\n",
        "    print(\"Account Holder Name : \",self.Holder_name)\n",
        "    print(\"Amount of Holder    : \",self.Amount)\n",
        "  def Deposit(self,amount):\n",
        "    self.Amount = self.Amount + amount\n",
        "  def Withdraw(self,amount):\n",
        "    self.Amount = self.Amount - amount\n",
        "  def Check_balance(self):\n",
        "    print(\"Your Account Balance : \",self.Amount)\n",
        "\n",
        "x = input(\"Enter Account Number : \")\n",
        "y = int(input(\"Enter Holder's Name : \"))\n",
        "z = int(input(\"Enter the Amount : \"))\n",
        "K = Account(x,y,z)\n",
        "K.Account_details\n",
        "m = int(input(\"Enter the Deposited Amount : \"))\n",
        "K.Deposit(m)\n",
        "n = int(input(\"Enter the Withdrawl Amount : \"))\n",
        "K.Withdraw(n)\n",
        "K.Check_balance()"
      ],
      "execution_count": null,
      "outputs": [
        {
          "output_type": "stream",
          "name": "stdout",
          "text": [
            "Enter Account Number : XXXX XXXX XXXX XXXX\n",
            "Enter Holder's Name : Sai Tarun\n",
            "Enter the Amount : 300000\n",
            "Enter the Deposited Amount : 50000\n",
            "Enter the Withdrawl Amount : 100000\n",
            "Your Account Balance :  250000\n"
          ]
        }
      ]
    },
    {
      "cell_type": "code",
      "metadata": {
        "colab": {
          "base_uri": "https://localhost:8080/"
        },
        "id": "UdXzOipfVAQv",
        "outputId": "b77013e4-2757-48f7-cee4-759762b241d2"
      },
      "source": [
        "class Student():\n",
        "  def __init__(self,Name,USN,Marks):\n",
        "    self.Name  = Name\n",
        "    self.USN   = USN\n",
        "    self.Marks = Marks\n",
        "  def Display_details(self):\n",
        "    print(\"Student Name  : \",self.Name)\n",
        "    print(\"--> USN       : \",self.USN)\n",
        "    print(\"Student Marks : \",self.Marks)\n",
        "marks = []\n",
        "marks.append(\"Maths   :\" + \"99\")\n",
        "marks.append(\"Science :\" + \"94\")\n",
        "marks.append(\"English :\" + \"96\")\n",
        "\n",
        "s = Student(\"Tarun\",12,marks)\n",
        "s.Display_details()"
      ],
      "execution_count": null,
      "outputs": [
        {
          "output_type": "stream",
          "name": "stdout",
          "text": [
            "Student Name  :  Tarun\n",
            "--> USN       :  12\n",
            "Student Marks :  ['Maths   :99', 'Science :94', 'English :96']\n"
          ]
        }
      ]
    },
    {
      "cell_type": "code",
      "metadata": {
        "colab": {
          "base_uri": "https://localhost:8080/"
        },
        "id": "ksB8HezLZtgO",
        "outputId": "d0e8d169-97e1-4e6b-93d8-99d2e0a30aeb"
      },
      "source": [
        "class Patient:\n",
        "  def __init__(self,Name,O2_level,DOA):\n",
        "    self.Name = Name\n",
        "    self.Symptoms = []\n",
        "    self.O2_level = O2_level\n",
        "    self.DOA = DOA\n",
        "\n",
        "  def Person_details(self):\n",
        "    self.age  = int(input(\"Enter the age : \"))\n",
        "    self.gender= input(\"Enter the Gender : \")\n",
        "    self.address = input(\"Enter the Address : \")\n",
        "    for i in range(5):\n",
        "      symptoms = input(\"Enter The Five Symptoms : \")\n",
        "      self.Symptoms.append(symptoms)\n",
        "    self.DOD = input(\"Enter Date of Discharge : \")\n",
        "  \n",
        "  def Display_details(self):\n",
        "    print(\"Patient Name : \",self.Name)\n",
        "    print(\"Patient Age  :\",self.age)\n",
        "    print(\"Patient Gender: \",self.gender)\n",
        "    print(\"Patient Address :\",self.address)\n",
        "    print(\"Patient Symptoms : \",self.Symptoms)\n",
        "    print(\"Patient Admitted Date : \",self.DOA)\n",
        "    print(\"Patient Date of Discharge :\",self.DOD)\n",
        "\n",
        "  def Severity(self):\n",
        "    self.General_ward = 0\n",
        "    self.Oxygen_supp  = 0\n",
        "    if self.O2_level > 90:\n",
        "      self.General_ward = self.General_ward + 1\n",
        "      print(\"Shifted to General Ward \")\n",
        "    else :\n",
        "      self.Oxygen_supp = self.Oxygen_supp + 1\n",
        "      print(\"Shifted to Emergency Ward \")\n",
        "  \n",
        "  def Patients_general_ward(self):\n",
        "    print(\"Number of Patients in General Ward : \",self.General_ward)\n",
        "  def Oxygen_support(self):\n",
        "    print(\"Number of Patients in Oxygen Support : \", self.Oxygen_supp)\n",
        "  def Total_Patients(self):\n",
        "    print(\"Total Number of Patients in Hospital : \",self.General_ward + self.Oxygen_supp)\n",
        "\n",
        "for i in range(3):\n",
        "\n",
        "  x = input(\"Enter the Patient Name : \")\n",
        "  y = int(input(\"Enter The Oxygen % : \"))\n",
        "  z = input(\"Enter The Admitted Date : \")\n",
        "\n",
        "  M = Patient(x,y,z)\n",
        "  M.Person_details()\n",
        "  M.Severity()\n",
        "\n",
        "  M.Patients_general_ward()\n",
        "  M.Oxygen_support()\n",
        "  M.Total_Patients()\n",
        "  M.Display_details()"
      ],
      "execution_count": null,
      "outputs": [
        {
          "output_type": "stream",
          "name": "stdout",
          "text": [
            "Enter the Patient Name : Raju\n",
            "Enter The Oxygen % : 91\n",
            "Enter The Admitted Date : 01\\12\\2020\n",
            "Enter the age : 35\n",
            "Enter the Gender : M\n",
            "Enter the Address : XXXXXXXXXXX\n",
            "Enter The Five Symptoms : Cough\n",
            "Enter The Five Symptoms : Headache\n",
            "Enter The Five Symptoms : High Cold\n",
            "Enter The Five Symptoms : Fever\n",
            "Enter The Five Symptoms : Dry Throat\n",
            "Enter Date of Discharge : 07\\01\\2021\n",
            "Shifted to General Ward \n",
            "Number of Patients in General Ward :  1\n",
            "Number of Patients in Oxygen Support :  0\n",
            "Total Number of Patients in Hospital :  1\n",
            "Patient Name :  Raju\n",
            "Patient Age  : 35\n",
            "Patient Gender:  M\n",
            "Patient Address : XXXXXXXXXXX\n",
            "Patient Symptoms :  ['Cough', 'Headache', 'High Cold', 'Fever', 'Dry Throat']\n",
            "Patient Admitted Date :  01\\12\\2020\n",
            "Patient Date of Discharge : 07\\01\\2021\n",
            "Enter the Patient Name : Geetha \n",
            "Enter The Oxygen % : 82\n",
            "Enter The Admitted Date : 06\\09\\2020\n",
            "Enter the age : 29\n",
            "Enter the Gender : F\n",
            "Enter the Address : XXXXXXXXXXX\n",
            "Enter The Five Symptoms : Headache\n",
            "Enter The Five Symptoms : Body Pains\n",
            "Enter The Five Symptoms : High Fever\n",
            "Enter The Five Symptoms : Dry cough\n",
            "Enter The Five Symptoms : Breathing Problem\n",
            "Enter Date of Discharge : 10\\10\\2020\n",
            "Shifted to Emergency Ward \n",
            "Number of Patients in General Ward :  0\n",
            "Number of Patients in Oxygen Support :  1\n",
            "Total Number of Patients in Hospital :  1\n",
            "Patient Name :  Geetha \n",
            "Patient Age  : 29\n",
            "Patient Gender:  F\n",
            "Patient Address : XXXXXXXXXXX\n",
            "Patient Symptoms :  ['Headache', 'Body Pains', 'High Fever', 'Dry cough', 'Breathing Problem']\n",
            "Patient Admitted Date :  06\\09\\2020\n",
            "Patient Date of Discharge : 10\\10\\2020\n",
            "Enter the Patient Name : Ramu\n",
            "Enter The Oxygen % : 74\n",
            "Enter The Admitted Date : 11\\11\\2020\n",
            "Enter the age : 58\n",
            "Enter the Gender : M\n",
            "Enter the Address : XXXXXXXXX\n",
            "Enter The Five Symptoms : Cough\n",
            "Enter The Five Symptoms : Fever\n",
            "Enter The Five Symptoms : Cold\n",
            "Enter The Five Symptoms : Body Pains\n",
            "Enter The Five Symptoms : Dry Throat\n",
            "Enter Date of Discharge : 12\\12\\2020\n",
            "Shifted to Emergency Ward \n",
            "Number of Patients in General Ward :  0\n",
            "Number of Patients in Oxygen Support :  1\n",
            "Total Number of Patients in Hospital :  1\n",
            "Patient Name :  Ramu\n",
            "Patient Age  : 58\n",
            "Patient Gender:  M\n",
            "Patient Address : XXXXXXXXX\n",
            "Patient Symptoms :  ['Cough', 'Fever', 'Cold', 'Body Pains', 'Dry Throat']\n",
            "Patient Admitted Date :  11\\11\\2020\n",
            "Patient Date of Discharge : 12\\12\\2020\n"
          ]
        }
      ]
    },
    {
      "cell_type": "code",
      "metadata": {
        "colab": {
          "base_uri": "https://localhost:8080/"
        },
        "id": "xC_dRO1XpWWV",
        "outputId": "f16d2f3b-b91b-45c2-c9c1-2247aa0dd7a1"
      },
      "source": [
        "class Time():\n",
        "  def __init__(self,hour = 0,minutes = 0,seconds = 0):\n",
        "    self.hour    = hour\n",
        "    self.minutes = minutes\n",
        "    self.seconds = seconds\n",
        "  def display_time(self):\n",
        "    print(self.hour,\":\",self.minutes,\":\",self.seconds)\n",
        "T = Time()\n",
        "T.display_time()\n",
        "T.hour    = 12\n",
        "T.minutes = 45\n",
        "T.seconds = 12\n",
        "T.display_time()"
      ],
      "execution_count": null,
      "outputs": [
        {
          "output_type": "stream",
          "name": "stdout",
          "text": [
            "0 : 0 : 0\n",
            "12 : 45 : 12\n"
          ]
        }
      ]
    },
    {
      "cell_type": "code",
      "metadata": {
        "colab": {
          "base_uri": "https://localhost:8080/"
        },
        "id": "eD15rUdDst70",
        "outputId": "4ba981c3-9561-4cf1-90a0-6b854542f876"
      },
      "source": [
        "class Student():\n",
        "  def __init__(self,Name,Age,Rollno):\n",
        "    self.Name = Name\n",
        "    self.Age  = Age\n",
        "    self.Rollno = Rollno\n",
        "S1 = Student(\"Rahul\" , 21 , 33)\n",
        "S2 = Student(\"Rohith\", 22 , 74)\n",
        "def Compare(S1,S2):\n",
        "  if S1.Name == S2.Name or S1.Age == S2.Age :\n",
        "    print(\"Student - 1 is equal to Student - 2 \")\n",
        "  else :\n",
        "    print(\"Student - 1 is not equal to Student - 2\")\n",
        "Compare(S1,S2)"
      ],
      "execution_count": null,
      "outputs": [
        {
          "output_type": "stream",
          "name": "stdout",
          "text": [
            "Student - 1 is not equal to Student - 2\n"
          ]
        }
      ]
    },
    {
      "cell_type": "code",
      "metadata": {
        "colab": {
          "base_uri": "https://localhost:8080/"
        },
        "id": "RNMAcY7CxOwA",
        "outputId": "798e5493-f653-47be-de16-7a755aa951e4"
      },
      "source": [
        "class Student():\n",
        "  semester = \" 3rd Sem \"\n",
        "  institute_name = \" IIIT Dharwad \"\n",
        "  def __init__(self,Name,USN):\n",
        "    self.Name = Name\n",
        "    self.USN = USN\n",
        "  def student_details(self):\n",
        "    print(\" Name : \",self.Name)\n",
        "    print(\" USN : \",self.USN)\n",
        "  @classmethod\n",
        "  def institute_details(cls):\n",
        "    print(cls.semester)\n",
        "    print(cls.institute_name)\n",
        "  @staticmethod\n",
        "  def class_details(Name, USN, semester, institute):\n",
        "    print(\"Name: \",Name)\n",
        "    print(\"USN: \", USN)\n",
        "    print(\"Semester: \",semester)\n",
        "    print(\"Institute: \",institute)\n",
        "\n",
        "S = Student(\"Tarun\", '20BCS096')\n",
        "print(\"Student_details is a instance method:\\n\")\n",
        "S.student_details()\n",
        "print(\"\\nInstitute_details is a class method:\")\n",
        "S.institute_details()\n",
        "print(\"\\nClass_details is a static method:\\n\")\n",
        "S.class_details(\"Tarun\",'20BCS096',\"3rd Sem\", \"IIIT DHARWAD\")"
      ],
      "execution_count": null,
      "outputs": [
        {
          "output_type": "stream",
          "name": "stdout",
          "text": [
            "Student_details is a instance method:\n",
            "\n",
            " Name :  Tarun\n",
            " USN :  20BCS096\n",
            "\n",
            "Institute_details is a class method:\n",
            " 3rd Sem \n",
            " IIIT Dharwad \n",
            "\n",
            "Class_details is a static method:\n",
            "\n",
            "Name:  Tarun\n",
            "USN:  20BCS096\n",
            "Semester:  3rd Sem\n",
            "Institute:  IIIT DHARWAD\n"
          ]
        }
      ]
    },
    {
      "cell_type": "code",
      "metadata": {
        "id": "rsaEJq0h9mhV",
        "colab": {
          "base_uri": "https://localhost:8080/"
        },
        "outputId": "be916d3b-4cdf-452d-f518-6db9fdc49783"
      },
      "source": [
        "class Student:\n",
        "  def __init__(self,Name,Rollno,Sem):\n",
        "    self.Name = Name\n",
        "    self.Rollno = Rollno\n",
        "    self.Sem = Sem\n",
        "  class Laptop:\n",
        "    def __init__(self,CPU,RAM,Hard_disk,display_details):\n",
        "      self.CPU = CPU\n",
        "      self.RAM = RAM\n",
        "      self.Hard_disk = Hard_disk\n",
        "      self.display_details = display_details\n",
        "    def display_laptop(self):\n",
        "      print(\"CPU \",self.CPU)\n",
        "      print(\"RAM \",self.RAM)\n",
        "      print(\"Hard Disk\",self.Hard_disk)\n",
        "      print(\"Display_details\",self.display_details)\n",
        "  \n",
        "  def display_student(self):\n",
        "    print(\"Name: \",self.Name)\n",
        "    print(\"Roll: \",self.Rollno)\n",
        "    print(\"Sem: \",self.Sem)\n",
        "Students = []\n",
        "Laptops   = []\n",
        "for i in range(2):\n",
        "  x = input(\"Enter the Name : \")\n",
        "  y = input(\"Enter the ROLL NO : \")\n",
        "  z = int(input(\"Enter the Semister :\"))\n",
        "  S = Student(x,y,z)\n",
        "  Students.append(S)\n",
        "  for j in range(2):\n",
        "    a = input(\"Enter the CPU : \")\n",
        "    b = input(\"Enter the RAM : \")\n",
        "    c = input(\"Enter the Hard Disk data : \")\n",
        "    d = input(\"Enter the Display Details :\")\n",
        "    Slap = S.Laptop(a,b,c,d)\n",
        "    Laptops.append(Slap)\n",
        "for i in Students:\n",
        "  i.display_student()\n",
        "  for j in Laptops:\n",
        "    j.display_laptop()\n",
        "    print(\" \")\n"
      ],
      "execution_count": null,
      "outputs": [
        {
          "output_type": "stream",
          "name": "stdout",
          "text": [
            "Enter the Name : Sai Tarun \n",
            "Enter the ROLL NO : 20BCS096\n",
            "Enter the Semister :3\n",
            "Enter the CPU : Think Centre\n",
            "Enter the RAM : 8 GB\n",
            "Enter the Hard Disk data : 1 TB \n",
            "Enter the Display Details :15.5 Inch\n",
            "Enter the CPU : Intel Xeon\n",
            "Enter the RAM : 12  GB\n",
            "Enter the Hard Disk data : 1 TB\n",
            "Enter the Display Details :17.5\n",
            "Enter the Name : Vivek\n",
            "Enter the ROLL NO : 20BCS105\n",
            "Enter the Semister :3\n",
            "Enter the CPU : Intel - icore\n",
            "Enter the RAM : 8 GB\n",
            "Enter the Hard Disk data : 512 GB\n",
            "Enter the Display Details :14.5\n",
            "Enter the CPU : Intel Xeon\n",
            "Enter the RAM : 8 GB\n",
            "Enter the Hard Disk data : 1 TB\n",
            "Enter the Display Details :15.5 Inch\n",
            "Name:  Sai Tarun \n",
            "Roll:  20BCS096\n",
            "Sem:  3\n",
            "CPU  Think Centre\n",
            "RAM  8 GB\n",
            "Hard Disk 1 TB \n",
            "Display_details 15.5 Inch\n",
            " \n",
            "CPU  Intel Xeon\n",
            "RAM  12  GB\n",
            "Hard Disk 1 TB\n",
            "Display_details 17.5\n",
            " \n",
            "CPU  Intel - icore\n",
            "RAM  8 GB\n",
            "Hard Disk 512 GB\n",
            "Display_details 14.5\n",
            " \n",
            "CPU  Intel Xeon\n",
            "RAM  8 GB\n",
            "Hard Disk 1 TB\n",
            "Display_details 15.5 Inch\n",
            " \n",
            "Name:  Vivek\n",
            "Roll:  20BCS105\n",
            "Sem:  3\n",
            "CPU  Think Centre\n",
            "RAM  8 GB\n",
            "Hard Disk 1 TB \n",
            "Display_details 15.5 Inch\n",
            " \n",
            "CPU  Intel Xeon\n",
            "RAM  12  GB\n",
            "Hard Disk 1 TB\n",
            "Display_details 17.5\n",
            " \n",
            "CPU  Intel - icore\n",
            "RAM  8 GB\n",
            "Hard Disk 512 GB\n",
            "Display_details 14.5\n",
            " \n",
            "CPU  Intel Xeon\n",
            "RAM  8 GB\n",
            "Hard Disk 1 TB\n",
            "Display_details 15.5 Inch\n",
            " \n"
          ]
        }
      ]
    }
  ]
}