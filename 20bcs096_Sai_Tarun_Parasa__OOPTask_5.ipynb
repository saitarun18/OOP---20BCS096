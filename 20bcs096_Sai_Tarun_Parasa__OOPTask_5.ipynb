{
  "nbformat": 4,
  "nbformat_minor": 0,
  "metadata": {
    "colab": {
      "name": "20bcs096_Sai_Tarun_Parasa__OOPTask_5.ipynb",
      "provenance": [],
      "authorship_tag": "ABX9TyPHBc2vovJ8ZFVIuBa2S36d",
      "include_colab_link": true
    },
    "kernelspec": {
      "display_name": "Python 3",
      "name": "python3"
    },
    "language_info": {
      "name": "python"
    }
  },
  "cells": [
    {
      "cell_type": "markdown",
      "metadata": {
        "id": "view-in-github",
        "colab_type": "text"
      },
      "source": [
        "<a href=\"https://colab.research.google.com/github/saitarun18/OOP---20BCS096/blob/main/20bcs096_Sai_Tarun_Parasa__OOPTask_5.ipynb\" target=\"_parent\"><img src=\"https://colab.research.google.com/assets/colab-badge.svg\" alt=\"Open In Colab\"/></a>"
      ]
    },
    {
      "cell_type": "code",
      "metadata": {
        "colab": {
          "base_uri": "https://localhost:8080/"
        },
        "id": "W85h0GAYAdiC",
        "outputId": "88e8c763-b8db-43bd-bc67-722cb6ffb59b"
      },
      "source": [
        "#Problem - 1\n",
        "\n",
        "from abc import ABC , abstractmethod\n",
        "class Shape(ABC):\n",
        "  def __init__(self,name):\n",
        "    self.name = name\n",
        "    @abstractmethod\n",
        "    def Area(self):\n",
        "      pass\n",
        "\n",
        "class Circle(Shape):\n",
        "    def __init__(self,Radius):\n",
        "        self.Radius = Radius\n",
        "    def Area(self):\n",
        "        print(\"Area of Circle   : \",round(3.14*(self.Radius**2)))\n",
        "        \n",
        "class Square(Shape):\n",
        "    def __init__(self,Length):\n",
        "        self.Length = Length\n",
        "    def Area(self):\n",
        "        print(\"Area of Square   : \",round(self.Length**2))\n",
        "        \n",
        "class Rectangle(Shape):\n",
        "    def __init__(self,Length,Breadth):\n",
        "        self.Length = Length\n",
        "        self.Breadth = Breadth\n",
        "    def Area(self):\n",
        "        print(\"Area of Rectangle : \",round(self.Length*self.Breadth))\n",
        "        \n",
        "C = Circle(9)\n",
        "C.Area()\n",
        "S = Square(4)\n",
        "S.Area()\n",
        "R = Rectangle(4,9)\n",
        "R.Area()"
      ],
      "execution_count": 28,
      "outputs": [
        {
          "output_type": "stream",
          "name": "stdout",
          "text": [
            "Area of Circle   :  254\n",
            "Area of Square   :  16\n",
            "Area of Rectangle :  36\n"
          ]
        }
      ]
    },
    {
      "cell_type": "code",
      "metadata": {
        "colab": {
          "base_uri": "https://localhost:8080/"
        },
        "id": "Kdin45ZBF--k",
        "outputId": "49465cd5-49c2-4474-cef4-dee4abae3b17"
      },
      "source": [
        "#Problem - 2\n",
        "\n",
        "from abc import ABC , abstractmethod\n",
        "\n",
        "class Travel(ABC):\n",
        "  def __init__(self, Mode, Distance, Passengers):\n",
        "    self.Mode = Mode\n",
        "    self.Distance = Distance\n",
        "    self._Passengers = Passengers\n",
        "\n",
        "  def Passenger_Count(self):\n",
        "    return self._Passengers\n",
        "  \n",
        "  @abstractmethod\n",
        "  def Cost(self):\n",
        "    pass\n",
        "\n",
        "class Bus(Travel):\n",
        "  def __init__(self, Distance, Passengers):\n",
        "    Travel.__init__(self, 'Bus', Distance, Passengers)\n",
        "\n",
        "  def Total_Passengers(self):\n",
        "    return Travel.Passenger_Count(self)\n",
        "\n",
        "  def Cost(self):\n",
        "    print(\"Cost by Bus : \", self.Total_Passengers()*100)\n",
        "\n",
        "\n",
        "class Train(Travel):\n",
        "  def __init__(self, Distance, Passengers):\n",
        "    Travel.__init__(self,'Train', Distance, Passengers)\n",
        "\n",
        "  def Total_Passengers(self):\n",
        "    return Travel.Passenger_Count(self)\n",
        "\n",
        "  def Cost(self):\n",
        "    print(\"Cost by Train : \", self.Total_Passengers()*60)\n",
        "\n",
        "F1 = Bus(170,12)\n",
        "F2 = Train(150, 24)\n",
        "\n",
        "F1.Cost()\n",
        "F2.Cost()\n",
        "\n"
      ],
      "execution_count": 27,
      "outputs": [
        {
          "output_type": "stream",
          "name": "stdout",
          "text": [
            "Cost by Bus :  1200\n",
            "Cost by Train :  1440\n"
          ]
        }
      ]
    },
    {
      "cell_type": "code",
      "metadata": {
        "colab": {
          "base_uri": "https://localhost:8080/"
        },
        "id": "uMonVq3Oah2Y",
        "outputId": "f769bbd6-0906-4d20-e815-6565cabe606e"
      },
      "source": [
        "#Problem - 3\n",
        "\n",
        "class Car:\n",
        "  def __init__(self,Modelno):\n",
        "    self.Modelno = Modelno\n",
        "  def Show(self):\n",
        "    print(self.Modelno)\n",
        "\n",
        "c1 = Car('E9')\n",
        "c2 = Car('E21')\n",
        "\n",
        "c1.Modelno, c2.Modelno = c2.Modelno, c1.Modelno\n",
        "\n",
        "print(\"After Swapping\\n\")\n",
        "\n",
        "c1.Show()\n",
        "c2.Show()"
      ],
      "execution_count": 40,
      "outputs": [
        {
          "output_type": "stream",
          "name": "stdout",
          "text": [
            "After Swapping\n",
            "\n",
            "E21\n",
            "E9\n"
          ]
        }
      ]
    }
  ]
}