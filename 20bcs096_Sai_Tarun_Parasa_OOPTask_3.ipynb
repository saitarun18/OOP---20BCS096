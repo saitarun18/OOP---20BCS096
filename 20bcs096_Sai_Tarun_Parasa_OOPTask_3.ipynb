{
  "nbformat": 4,
  "nbformat_minor": 0,
  "metadata": {
    "colab": {
      "name": "20bcs096_Sai Tarun Parasa_OOPTask - 3.ipynb",
      "provenance": [],
      "authorship_tag": "ABX9TyNj1YtS3iz8CtlEGwyBFwLW",
      "include_colab_link": true
    },
    "kernelspec": {
      "name": "python3",
      "display_name": "Python 3"
    },
    "language_info": {
      "name": "python"
    }
  },
  "cells": [
    {
      "cell_type": "markdown",
      "metadata": {
        "id": "view-in-github",
        "colab_type": "text"
      },
      "source": [
        "<a href=\"https://colab.research.google.com/github/saitarun18/OOP---20BCS096/blob/main/20bcs096_Sai_Tarun_Parasa_OOPTask_3.ipynb\" target=\"_parent\"><img src=\"https://colab.research.google.com/assets/colab-badge.svg\" alt=\"Open In Colab\"/></a>"
      ]
    },
    {
      "cell_type": "code",
      "metadata": {
        "colab": {
          "base_uri": "https://localhost:8080/"
        },
        "id": "_WEoL4pCFi7Z",
        "outputId": "203b0286-04d3-430e-8cce-5616672e9aac"
      },
      "source": [
        "class Student:\n",
        "  def Student_info(self):\n",
        "    self.Name = input(\"Enter Student's Name: \")\n",
        "    self.RegNo = int(input(\"Enter Registration Number: \"))\n",
        "    self.Age = int(input(\"Enter Student's Age: \"))\n",
        "    self.Gender = input(\"Enter Student's Gender: \")\n",
        "    self.Branch = input(\"Enter Student's Branch: \")\n",
        "    self.Sem = int(input(\"Enter Semester: \"))\n",
        "\n",
        "  def Display_details(self):\n",
        "    print(\"\\nName:\", self.Name+\",\", \"\\nReg.no.:\", str(self.RegNo)+\",\", \"\\nAge:\", str(self.Age)+\",\", \"\\nGender:\",self.Gender+\",\",\"\\nBranch:\", self.Branch+\",\", \"\\nSemester:\",self.Sem)\n",
        "\n",
        "class Student_Result(Student):\n",
        "  def __init__(self, Total_Marks, Percentage, Grade):\n",
        "    self.Total_Marks = Total_Marks\n",
        "    self.Percentage = Percentage\n",
        "    self.Grade = Grade\n",
        "\n",
        "  def Show_details(self):\n",
        "    print(\"\\nB a s i c D e t a i l s :\")\n",
        "    self.Display_details()\n",
        "    print(\"\\nR e s u l t s \\nTotal marks:\", str(self.Total_Marks)+',', \"\\nPercentage:\", str(self.Percentage)+'%,', \"\\nGrade:\", self.Grade)\n",
        "\n",
        "S1 = Student_Result(964 , 97 , 'A+')\n",
        "S1.Student_info()\n",
        "S1.Display_details()\n",
        "S1.Show_details()"
      ],
      "execution_count": 7,
      "outputs": [
        {
          "output_type": "stream",
          "name": "stdout",
          "text": [
            "Enter Student's Name: Sai Tarun\n",
            "Enter Registration Number: 96\n",
            "Enter Student's Age: 19\n",
            "Enter Student's Gender: Male\n",
            "Enter Student's Branch: CSE\n",
            "Enter Semester: 3\n",
            "\n",
            "Name: Sai Tarun, \n",
            "Reg.no.: 96, \n",
            "Age: 19, \n",
            "Gender: Male, \n",
            "Branch: CSE, \n",
            "Semester: 3\n",
            "\n",
            "B a s i c D e t a i l s :\n",
            "\n",
            "Name: Sai Tarun, \n",
            "Reg.no.: 96, \n",
            "Age: 19, \n",
            "Gender: Male, \n",
            "Branch: CSE, \n",
            "Semester: 3\n",
            "\n",
            "R e s u l t s \n",
            "Total marks: 964, \n",
            "Percentage: 97%, \n",
            "Grade: A+\n"
          ]
        }
      ]
    },
    {
      "cell_type": "code",
      "metadata": {
        "colab": {
          "base_uri": "https://localhost:8080/"
        },
        "id": "UJ0c_HgHQtn1",
        "outputId": "e643bdc8-5f97-4515-8f61-1cd1f714430a"
      },
      "source": [
        "class PDF:\n",
        "  def __init__(self, Creator, Description, Size):\n",
        "    self.Creator = Creator\n",
        "    self.Description = Description\n",
        "    self.Size = Size\n",
        "\n",
        "  def Display_details(self):\n",
        "    print(\"Created by:\",self.Creator)\n",
        "    print(\"Description:\", self.Description)\n",
        "    print(\"File size (in KBs):\", self.Size)\n",
        "\n",
        "  def SizeLimit(self):\n",
        "    if self.Size > 300:         \n",
        "      print(\"Size exceeds threshold.\\n\")\n",
        "    else:\n",
        "      print(\"Size is within the threshold.\\n\")\n",
        "\n",
        "class Pictures(PDF):\n",
        "  def __init__(self, Creator, Description, Size, Dimension):\n",
        "    super().__init__(Creator, Description, Size)\n",
        "    self.Dimension = Dimension\n",
        "\n",
        "  def DisplayPic_details(self):\n",
        "    self.Display_details()\n",
        "    print(\"Dimensions (in pixels):\", self.Dimension)\n",
        "\n",
        "  def DimensionLimit(self):\n",
        "    if self.Dimension>3000:\n",
        "      print(\"The picture is too high dimension!\\n\")\n",
        "    else:\n",
        "      print(\"The picture's dimensions are fine.\\n\")\n",
        "\n",
        "P = PDF(\"Kumar\", \"Lab assignment 3\", 135)\n",
        "P.Display_details()\n",
        "P.SizeLimit()\n",
        "print()\n",
        "I = Pictures(\"Kiran\", \"Taj Mahal\", 1047, 3500)\n",
        "I.DisplayPic_details()\n",
        "I.DimensionLimit()"
      ],
      "execution_count": 8,
      "outputs": [
        {
          "output_type": "stream",
          "name": "stdout",
          "text": [
            "Created by: Kumar\n",
            "Description: Lab assignment 3\n",
            "File size (in KBs): 135\n",
            "Size is within the threshold.\n",
            "\n",
            "\n",
            "Created by: Kiran\n",
            "Description: Taj Mahal\n",
            "File size (in KBs): 1047\n",
            "Dimensions (in pixels): 3500\n",
            "The picture is too high dimension!\n",
            "\n"
          ]
        }
      ]
    },
    {
      "cell_type": "code",
      "metadata": {
        "colab": {
          "base_uri": "https://localhost:8080/"
        },
        "id": "zMKEog9SS8vM",
        "outputId": "486caf38-c171-4cb0-e299-0a84c45dd9e2"
      },
      "source": [
        "class Vehicle:\n",
        "  def __init__(self, name, mileage, capacity):\n",
        "    self.name = name\n",
        "    self.mileage = mileage\n",
        "    self.capacity = capacity\n",
        "\n",
        "  def fare(self):\n",
        "    return self.capacity*100\n",
        "\n",
        "class Bus(Vehicle):\n",
        "  def busFare(self):\n",
        "    return 1.1*self.fare()\n",
        "\n",
        "bus = Bus(\" 99 Express \", 5.51, 55)\n",
        "print(\"Name: {0.name}, Mileage: {0.mileage}Kmpl, Capacity: {0.capacity}, \\nBus fare: Rs. {1}\".format(bus, bus.busFare()))"
      ],
      "execution_count": 16,
      "outputs": [
        {
          "output_type": "stream",
          "name": "stdout",
          "text": [
            "Name:  99 Express , Mileage: 5.51Kmpl, Capacity: 55, \n",
            "Bus fare: Rs. 6050.000000000001\n"
          ]
        }
      ]
    }
  ]
}