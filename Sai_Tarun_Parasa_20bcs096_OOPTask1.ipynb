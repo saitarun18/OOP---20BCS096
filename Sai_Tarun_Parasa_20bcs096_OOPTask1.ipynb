{
  "nbformat": 4,
  "nbformat_minor": 0,
  "metadata": {
    "colab": {
      "name": "Sai Tarun Parasa_20bcs096_OOPTask1.ipynb",
      "provenance": [],
      "authorship_tag": "ABX9TyN6cePvMX4Ygdw013HW+iKX",
      "include_colab_link": true
    },
    "kernelspec": {
      "name": "python3",
      "display_name": "Python 3"
    },
    "language_info": {
      "name": "python"
    }
  },
  "cells": [
    {
      "cell_type": "markdown",
      "metadata": {
        "id": "view-in-github",
        "colab_type": "text"
      },
      "source": [
        "<a href=\"https://colab.research.google.com/github/saitarun18/OOP---20BCS096/blob/main/Sai_Tarun_Parasa_20bcs096_OOPTask1.ipynb\" target=\"_parent\"><img src=\"https://colab.research.google.com/assets/colab-badge.svg\" alt=\"Open In Colab\"/></a>"
      ]
    },
    {
      "cell_type": "code",
      "metadata": {
        "colab": {
          "base_uri": "https://localhost:8080/"
        },
        "id": "Qafrmg7k7L0f",
        "outputId": "66983b43-f16a-4689-c05e-07fe5cd7c255"
      },
      "source": [
        "def is_leap(year) :\n",
        "  leap = False\n",
        "\n",
        "  if year % 400 == 0:\n",
        "    leap = True\n",
        "  elif year % 100 == 0:\n",
        "    leap = False\n",
        "  elif year % 4 == 0 :\n",
        "    leap = True\n",
        "\n",
        "  return leap\n",
        "\n",
        "year = int(input())\n",
        "print(is_leap(year))"
      ],
      "execution_count": 23,
      "outputs": [
        {
          "output_type": "stream",
          "name": "stdout",
          "text": [
            "2020\n",
            "True\n"
          ]
        }
      ]
    },
    {
      "cell_type": "code",
      "metadata": {
        "colab": {
          "base_uri": "https://localhost:8080/"
        },
        "id": "EnaJndw29SZR",
        "outputId": "f1ce852c-f8f9-4da3-d9d7-4eda29d4b8fa"
      },
      "source": [
        "n = int(input())\n",
        "if n % 2 != 0 :\n",
        "  print(\"Weird\")\n",
        "else:\n",
        "  if n >= 2 and n<= 5:\n",
        "    print(\"Not Weird\")\n",
        "  elif n >= 6 and n <= 20 :\n",
        "    print(\"Weird\")\n",
        "  elif n > 20 :\n",
        "    print(\"Not Weird\")"
      ],
      "execution_count": 27,
      "outputs": [
        {
          "output_type": "stream",
          "name": "stdout",
          "text": [
            "28\n",
            "Not Weird\n"
          ]
        }
      ]
    },
    {
      "cell_type": "code",
      "metadata": {
        "colab": {
          "base_uri": "https://localhost:8080/"
        },
        "id": "8ELmK_wIGmAv",
        "outputId": "a10fdc6e-4edd-4b82-a176-b35cba0162de"
      },
      "source": [
        "def fashionably_late(arrivals) :\n",
        "  for person in arrivals :\n",
        "    index = arrivals.index(person)\n",
        "    if index >= int(len(arrivals)/2) and index != len(arrivals)-1:\n",
        "     print(person)\n",
        "arrivals = ['Hardik','Rahul','Virat','Rishabh','Mahi','Rohith','Rahane']   \n",
        "fashionably_late(arrivals)"
      ],
      "execution_count": 58,
      "outputs": [
        {
          "output_type": "stream",
          "name": "stdout",
          "text": [
            "Rishabh\n",
            "Mahi\n",
            "Rohith\n"
          ]
        }
      ]
    },
    {
      "cell_type": "code",
      "metadata": {
        "colab": {
          "base_uri": "https://localhost:8080/"
        },
        "id": "B00k7bFYZeL7",
        "outputId": "e981c355-f36a-4609-bdd9-d70d1218679e"
      },
      "source": [
        "def word_search(doc_list,keyword):\n",
        "  for i in doc_list:\n",
        "      keyword = keyword.lower()\n",
        "      m = i.replace(\".\",\"\")\n",
        "      m = i.replace(\",\",\"\")\n",
        "      k = m.split()\n",
        "      for j in k:\n",
        "        j = j.lower()\n",
        "        if j == keyword:\n",
        "          print(i)\n",
        "k = [\"The tiger ate tiger.\",\"The learn Python Challenge tigers.\",\"bangloreTiger\",\"lion,love.tiger\",\"they bought finally .tiger\",\"and also ate ,tiger\",\"Tiger\"]\n",
        "word = input('Enter a word to search : ')\n",
        "word_search(k,word)"
      ],
      "execution_count": 77,
      "outputs": [
        {
          "output_type": "stream",
          "name": "stdout",
          "text": [
            "Enter a word to search : tiger\n",
            "The tiger ate tiger.\n",
            "and also ate ,tiger\n",
            "Tiger\n"
          ]
        }
      ]
    },
    {
      "cell_type": "code",
      "metadata": {
        "colab": {
          "base_uri": "https://localhost:8080/"
        },
        "id": "Zk5jJHxPuFTC",
        "outputId": "42860c34-7aae-45ea-83ba-fb8664aafc52"
      },
      "source": [
        "Basic_Sal = float(input(\"Enter The Basic Salary : \"))\n",
        "\n",
        "DA  = (Basic_Sal * 40)/100\n",
        "HRA = (Basic_Sal * 20)/100\n",
        "Gross_Sal = Basic_Sal + DA + HRA\n",
        "\n",
        "print(\"\\nDearness Allowance 40% of Basic Salary :\", DA)\n",
        "print(\"House Rent 20% of Basic Salary :\", HRA)\n",
        "print(\"Gross Salary :\", Gross_Sal)"
      ],
      "execution_count": 93,
      "outputs": [
        {
          "output_type": "stream",
          "name": "stdout",
          "text": [
            "Enter The Basic Salary : 456612\n",
            "\n",
            "Dearness Allowance 40% of Basic Salary : 182644.8\n",
            "House Rent 20% of Basic Salary : 91322.4\n",
            "Gross Salary : 730579.2000000001\n"
          ]
        }
      ]
    }
  ]
}