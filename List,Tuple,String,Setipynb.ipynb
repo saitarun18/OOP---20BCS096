{
  "nbformat": 4,
  "nbformat_minor": 0,
  "metadata": {
    "colab": {
      "name": "List,Tuple,String,Setipynb",
      "provenance": [],
      "authorship_tag": "ABX9TyNX0vYUnzz1kEl9aC9RcAVA",
      "include_colab_link": true
    },
    "kernelspec": {
      "name": "python3",
      "display_name": "Python 3"
    },
    "language_info": {
      "name": "python"
    }
  },
  "cells": [
    {
      "cell_type": "markdown",
      "metadata": {
        "id": "view-in-github",
        "colab_type": "text"
      },
      "source": [
        "<a href=\"https://colab.research.google.com/github/saitarun18/OOP---20BCS096/blob/main/List%2CTuple%2CString%2CSetipynb.ipynb\" target=\"_parent\"><img src=\"https://colab.research.google.com/assets/colab-badge.svg\" alt=\"Open In Colab\"/></a>"
      ]
    },
    {
      "cell_type": "code",
      "metadata": {
        "colab": {
          "base_uri": "https://localhost:8080/"
        },
        "id": "sYNeRg-cDQKe",
        "outputId": "413fd838-a2f4-4234-c1f3-9c628832251a"
      },
      "source": [
        "# Lists - Methods in python\n",
        "\n",
        "x = ['1','python','5','Tarun','oop','end','python']\n",
        "print(type(x))                                       # shows the type of Data Structure\n",
        "print(len(x))                                        # shows the length of list\n",
        "x.append('Tiger')                                    # adds element at the end of list  \n",
        "print(x)\n",
        "x.remove('python')                                   # removes the particular element in the list\n",
        "print(x)\n",
        "x.extend(['1','2','3'])                              # extend helps to insert another list with the existing list\n",
        "print(x)\n",
        "x.insert(2,'Lion')                                   # inserts the element in a particular indexed position\n",
        "print(x)\n",
        "count = x.count('1')                                 # gives the number of times the particular element appear in the list\n",
        "print(count)\n",
        "index = x.index('python')                            # shows the index of element in the list\n",
        "print(index)\n",
        "removed_element = x.pop(4)                           # removes partiular indexed element\n",
        "print('Removed element :',removed_element)\n",
        "x.reverse()                                          # totally reverses the list\n",
        "print(x)\n",
        "x.sort()                                             # sorts the list in order\n",
        "print(x)\n",
        "x.copy()                                             # exactly copies the list\n",
        "print(x)\n",
        "x.clear()                                            # clears the entire list\n",
        "print(x)"
      ],
      "execution_count": 40,
      "outputs": [
        {
          "output_type": "stream",
          "name": "stdout",
          "text": [
            "<class 'list'>\n",
            "7\n",
            "['1', 'python', '5', 'Tarun', 'oop', 'end', 'python', 'Tiger']\n",
            "['1', '5', 'Tarun', 'oop', 'end', 'python', 'Tiger']\n",
            "['1', '5', 'Tarun', 'oop', 'end', 'python', 'Tiger', '1', '2', '3']\n",
            "['1', '5', 'Lion', 'Tarun', 'oop', 'end', 'python', 'Tiger', '1', '2', '3']\n",
            "2\n",
            "6\n",
            "Removed element : oop\n",
            "['3', '2', '1', 'Tiger', 'python', 'end', 'Tarun', 'Lion', '5', '1']\n",
            "['1', '1', '2', '3', '5', 'Lion', 'Tarun', 'Tiger', 'end', 'python']\n",
            "['1', '1', '2', '3', '5', 'Lion', 'Tarun', 'Tiger', 'end', 'python']\n",
            "[]\n"
          ]
        }
      ]
    },
    {
      "cell_type": "code",
      "metadata": {
        "colab": {
          "base_uri": "https://localhost:8080/"
        },
        "id": "LTYnVphaNDQq",
        "outputId": "9322b67e-c8bd-43cf-a861-f05964343f3f"
      },
      "source": [
        "# Tuple - Accessing Tuple Elements\n",
        "\n",
        "k = ('t','a','r','u','n','1','2','3','t')\n",
        "print(type(k))                      # Gives the type of Data structure\n",
        "print(k[0])                          \n",
        "print(k[2:6])                       # indexing of Tuple\n",
        "print(k[0:])                        # slicing \n",
        "print(k[:45])\n",
        "\n",
        "# Nested Tuple\n",
        "\n",
        "j = nested_tuple = ('lion','tiger',[1,2,3,40],(4,5,6,7))\n",
        "print(j[0][2])\n",
        "print(j[3][2])\n",
        "\n",
        "print(k[-1])         # Negative Indexing in Tuple\n",
        "print(j[-3])\n",
        "\n",
        "count = k.count('t') # counting in Tuple\n",
        "print(count)\n",
        "\n",
        "# operations  with  Tuples\n",
        "# 1. Membership            # checks The string present in tuple or not\n",
        "print('t' in  k)\n",
        "print('z' in  k)\n",
        "# 2. Repetetion            # repeats the tuple number of times we want\n",
        "m = k * 3\n",
        "print(m)\n",
        "# 3. Iteration             # iterates over the tuple\n",
        "for i in k:\n",
        "  print(i)\n",
        "# 4. Concatenation         # adds two or more tuples into one \n",
        "n = k + j\n",
        "print(n)"
      ],
      "execution_count": 58,
      "outputs": [
        {
          "output_type": "stream",
          "name": "stdout",
          "text": [
            "<class 'tuple'>\n",
            "t\n",
            "('r', 'u', 'n', '1')\n",
            "('t', 'a', 'r', 'u', 'n', '1', '2', '3', 't')\n",
            "('t', 'a', 'r', 'u', 'n', '1', '2', '3', 't')\n",
            "o\n",
            "6\n",
            "t\n",
            "tiger\n",
            "2\n",
            "True\n",
            "False\n",
            "('t', 'a', 'r', 'u', 'n', '1', '2', '3', 't', 't', 'a', 'r', 'u', 'n', '1', '2', '3', 't', 't', 'a', 'r', 'u', 'n', '1', '2', '3', 't')\n",
            "t\n",
            "a\n",
            "r\n",
            "u\n",
            "n\n",
            "1\n",
            "2\n",
            "3\n",
            "t\n",
            "('t', 'a', 'r', 'u', 'n', '1', '2', '3', 't', 'lion', 'tiger', [1, 2, 3, 40], (4, 5, 6, 7))\n"
          ]
        }
      ]
    },
    {
      "cell_type": "code",
      "metadata": {
        "colab": {
          "base_uri": "https://localhost:8080/"
        },
        "id": "PKghABWpTY3Z",
        "outputId": "693af899-f4dc-4d09-e34f-145811314263"
      },
      "source": [
        "# Strings -  Sequence of Characters \n",
        "\n",
        "a = 'Hello'     #single line string\n",
        "print(a)\n",
        "\n",
        "a = \"Hello\"\n",
        "print(a)\n",
        "\n",
        "#multiple line string\n",
        "a = '''Hello This  \n",
        "is OOp course'''\n",
        "print(a)\n",
        "\n",
        "print(type(a))\n",
        "\n",
        "# Accessing String Characters\n",
        "str = \"The first step toward change is awareness\"\n",
        "print('str[0] = ',str[0])\n",
        "print(str[0:])\n",
        "print(str[9:-2])           #string slicing\n",
        "print(str[8:-4])\n",
        "\n",
        "#  Methods Of Strings\n",
        "print(len(str)) \n",
        "x = str.upper()\n",
        "print(x)\n",
        "x = str.lower()\n",
        "print(x)\n",
        "x = str.split()\n",
        "print(x)\n",
        "x = str.strip()\n",
        "print(x)\n",
        "x = str.count('a')\n",
        "print(x)\n",
        "x = str.replace(\"first\",\"Second\")\n",
        "print(x)\n",
        "print(str.startswith(\"T\"))\n",
        "print(str.startswith(\"n\"))\n",
        "print(str.endswith(\"s\"))\n",
        "print(str.endswith(\"k\"))\n",
        "print(\"The first step toward change is awareness {}\".format('The second step is acceptance'))\n"
      ],
      "execution_count": 92,
      "outputs": [
        {
          "output_type": "stream",
          "name": "stdout",
          "text": [
            "Hello\n",
            "Hello\n",
            "Hello This  \n",
            "is OOp course\n",
            "<class 'str'>\n",
            "str[0] =  T\n",
            "The first step toward change is awareness\n",
            " step toward change is awarene\n",
            "t step toward change is aware\n",
            "41\n",
            "THE FIRST STEP TOWARD CHANGE IS AWARENESS\n",
            "the first step toward change is awareness\n",
            "['The', 'first', 'step', 'toward', 'change', 'is', 'awareness']\n",
            "The first step toward change is awareness\n",
            "4\n",
            "The Second step toward change is awareness\n",
            "True\n",
            "False\n",
            "True\n",
            "False\n",
            "The first step toward change is awareness The second step is acceptance\n"
          ]
        }
      ]
    },
    {
      "cell_type": "code",
      "metadata": {
        "colab": {
          "base_uri": "https://localhost:8080/"
        },
        "id": "o0TVDMkLefdJ",
        "outputId": "63c13fd2-383e-4fb3-90ce-ec725ede13c2"
      },
      "source": [
        "# Sets : Collectionn of well defined objects\n",
        "\n",
        "# Some Methods for Sets\n",
        "\n",
        "s1 = {1,2,3,4}\n",
        "s2 = {'a','e','i','o','u'}\n",
        "x  = {1,2,3,4,5,6,7,8,9}\n",
        "print(s1)\n",
        "print(type(s1))\n",
        "print(max(s1))\n",
        "print(min(s1))\n",
        "s1.add(5)\n",
        "print(s)\n",
        "tup = ('6','7')\n",
        "s1.add(tup)\n",
        "print(s)\n",
        "s1.update('5')\n",
        "print(s1)\n",
        "length = len(s1)\n",
        "print(\"The length of set : \",length)\n",
        "print(s1.union(x))\n",
        "print(s1.difference(x))\n",
        "print(s1.intersection(x))\n",
        "print(s1.isdisjoint(x))\n",
        "print(s1.issubset(x))\n",
        "print(s1.issuperset(x))\n",
        "k = x.pop()\n",
        "print(k)\n",
        "k = x.pop()\n",
        "print(k)\n",
        "k = x.pop()\n",
        "print(k)\n",
        "x.copy()\n",
        "print(x)\n",
        "x.clear()\n",
        "print(x)"
      ],
      "execution_count": 132,
      "outputs": [
        {
          "output_type": "stream",
          "name": "stdout",
          "text": [
            "{1, 2, 3, 4}\n",
            "<class 'set'>\n",
            "4\n",
            "1\n",
            "{1, 2, 3, 4, 5, ('6', '7')}\n",
            "{1, 2, 3, 4, 5, ('6', '7')}\n",
            "{1, 2, 3, 4, 5, '5', ('6', '7')}\n",
            "The length of set :  7\n",
            "{1, 2, 3, 4, 5, 6, 7, 8, 9, ('6', '7'), '5'}\n",
            "{'5', ('6', '7')}\n",
            "{1, 2, 3, 4, 5}\n",
            "False\n",
            "False\n",
            "False\n",
            "1\n",
            "2\n",
            "3\n",
            "{4, 5, 6, 7, 8, 9}\n",
            "set()\n"
          ]
        }
      ]
    }
  ]
}