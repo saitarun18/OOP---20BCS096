{
  "nbformat": 4,
  "nbformat_minor": 0,
  "metadata": {
    "colab": {
      "name": "20bcs096_Sai Tarun Parasa_OOPTask-1.ipynb",
      "provenance": [],
      "authorship_tag": "ABX9TyMZhOYQGr5Cn9GyFishYPV7",
      "include_colab_link": true
    },
    "kernelspec": {
      "name": "python3",
      "display_name": "Python 3"
    },
    "language_info": {
      "name": "python"
    }
  },
  "cells": [
    {
      "cell_type": "markdown",
      "metadata": {
        "id": "view-in-github",
        "colab_type": "text"
      },
      "source": [
        "<a href=\"https://colab.research.google.com/github/saitarun18/OOP---20BCS096/blob/main/20bcs096_Sai_Tarun_Parasa_OOPTask_1.ipynb\" target=\"_parent\"><img src=\"https://colab.research.google.com/assets/colab-badge.svg\" alt=\"Open In Colab\"/></a>"
      ]
    },
    {
      "cell_type": "code",
      "metadata": {
        "colab": {
          "base_uri": "https://localhost:8080/"
        },
        "id": "cotLSGJBkRi6",
        "outputId": "787c796e-d541-4abd-c5c3-c6d53b345b49"
      },
      "source": [
        "def leapyear(year) :\n",
        "  if year % 400 == 0 :\n",
        "    return True\n",
        "  elif year % 100 == 0 :\n",
        "    return False\n",
        "  elif year % 4 == 0 :\n",
        "    return True\n",
        "  else :\n",
        "    return False\n",
        "m = 3\n",
        "for i in range(m) :\n",
        "  year = int(input(\"Enter the Year : \"))\n",
        "  if leapyear(year):\n",
        "    print(f'{year} is leap year')\n",
        "  else:\n",
        "    print('This is not leap year')"
      ],
      "execution_count": 1,
      "outputs": [
        {
          "output_type": "stream",
          "name": "stdout",
          "text": [
            "Enter the Year : 2020\n",
            "2020 is leap year\n",
            "Enter the Year : 2021\n",
            "This is not leap year\n",
            "Enter the Year : 2024\n",
            "2024 is leap year\n"
          ]
        }
      ]
    },
    {
      "cell_type": "code",
      "metadata": {
        "colab": {
          "base_uri": "https://localhost:8080/"
        },
        "id": "K13a4c21kniL",
        "outputId": "98738f17-f1f4-49e2-9876-c19d6b5113fc"
      },
      "source": [
        "def weird(num):\n",
        "  if num % 2 != 0:\n",
        "    return 'weird'\n",
        "  else:\n",
        "    if num <= 5 and num >= 2:\n",
        "      return 'Not weird'\n",
        "    elif num >= 6 and num <= 20:\n",
        "      return 'weird'\n",
        "    elif num >= 20:\n",
        "      return 'Not weird'\n",
        "    else:\n",
        "      return 'Its Natural Number !!'\n",
        "for i in range(5):\n",
        "  m = int(input(\"Enter a Number : \"))\n",
        "  print(f'weird({m}) : {weird(m)}') "
      ],
      "execution_count": 2,
      "outputs": [
        {
          "output_type": "stream",
          "name": "stdout",
          "text": [
            "Enter a Number : 7\n",
            "weird(7) : weird\n",
            "Enter a Number : 4\n",
            "weird(4) : Not weird\n",
            "Enter a Number : 18\n",
            "weird(18) : weird\n",
            "Enter a Number : 56\n",
            "weird(56) : Not weird\n",
            "Enter a Number : 789\n",
            "weird(789) : weird\n"
          ]
        }
      ]
    },
    {
      "cell_type": "code",
      "metadata": {
        "colab": {
          "base_uri": "https://localhost:8080/"
        },
        "id": "t990lhx_k432",
        "outputId": "a7a41732-3495-478b-ac41-5dbca0a408b9"
      },
      "source": [
        "def fashionably_late(arrivals) :\n",
        "  for person in arrivals :\n",
        "    index = arrivals.index(person)\n",
        "    if index >= int(len(arrivals)/2) and index != len(arrivals)-1:\n",
        "     print(person)\n",
        "arrivals = ['Hardik','Rahul','Virat','Rishabh','Mahi','Rohith','Rahane']   \n",
        "fashionably_late(arrivals)"
      ],
      "execution_count": 3,
      "outputs": [
        {
          "output_type": "stream",
          "name": "stdout",
          "text": [
            "Rishabh\n",
            "Mahi\n",
            "Rohith\n"
          ]
        }
      ]
    },
    {
      "cell_type": "code",
      "metadata": {
        "colab": {
          "base_uri": "https://localhost:8080/"
        },
        "id": "QNvXIiPclEBa",
        "outputId": "c7d6c8fa-0877-4b0a-d005-d9731257c06f"
      },
      "source": [
        "def word_search(doc_list,keyword):\n",
        "  for i in doc_list:\n",
        "      keyword = keyword.lower()\n",
        "      m = i.replace(\".\",\"\")\n",
        "      m = i.replace(\",\",\"\")\n",
        "      k = m.split()\n",
        "      for j in k:\n",
        "        j = j.lower()\n",
        "        if j == keyword:\n",
        "          print(i)\n",
        "k = [\"The tiger like tiger.\",\"The learn Python Challenge tigers.\",\"bangloreTiger\",\"lion,love.tiger\",\"they bought finally .tiger\",\"And also ,tiger\",\"Tiger\"]\n",
        "word = input('Enter a word to search : ')\n",
        "word_search(k,word)"
      ],
      "execution_count": 5,
      "outputs": [
        {
          "output_type": "stream",
          "name": "stdout",
          "text": [
            "Enter a word to search : tiger\n",
            "The tiger like tiger.\n",
            "And also ,tiger\n",
            "Tiger\n"
          ]
        }
      ]
    },
    {
      "cell_type": "code",
      "metadata": {
        "colab": {
          "base_uri": "https://localhost:8080/"
        },
        "id": "ba9CKOHJlXp_",
        "outputId": "c2d09658-e33c-4ad9-e051-0a554a31274c"
      },
      "source": [
        "def Total_Gross_pay(basic_pay): \n",
        "  if (basic_pay < 0) :\n",
        "    print(\"The Amount entered Couldn't be Negative Please enter the correct amount !!\")\n",
        "  else :\n",
        "    DA  = (basic_pay * 40)/100\n",
        "    HRA = (basic_pay * 20)/100\n",
        "    Gross_pay = basic_pay + DA + HRA\n",
        "    print(\"\\nDearness Allowance 40% of Basic Payment   :\", DA)\n",
        "    print(\"House Rent Allowance 20% of Basic Payment :\", HRA)\n",
        "    print(\"Gross Payment of the Employee             :\", Gross_pay)\n",
        "  return (basic_pay + DA + HRA)\n",
        "\n",
        "basic_pay = float(input(\"Enter The Basic Salary : \"))\n",
        "\n",
        "Gross_pay = Total_Gross_pay(basic_pay)"
      ],
      "execution_count": 6,
      "outputs": [
        {
          "output_type": "stream",
          "name": "stdout",
          "text": [
            "Enter The Basic Salary : 45617.45\n",
            "\n",
            "Dearness Allowance 40% of Basic Payment   : 18246.98\n",
            "House Rent Allowance 20% of Basic Payment : 9123.49\n",
            "Gross Payment of the Employee             : 72987.92\n"
          ]
        }
      ]
    },
    {
      "cell_type": "code",
      "metadata": {
        "id": "avyJto9olKWw"
      },
      "source": [
        ""
      ],
      "execution_count": null,
      "outputs": []
    }
  ]
}