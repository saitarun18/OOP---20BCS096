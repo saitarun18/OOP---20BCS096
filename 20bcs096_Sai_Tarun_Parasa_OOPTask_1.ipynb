{
  "nbformat": 4,
  "nbformat_minor": 0,
  "metadata": {
    "colab": {
      "name": "20bcs096_Sai Tarun Parasa_OOPTask-1.ipynb",
      "provenance": [],
      "authorship_tag": "ABX9TyMVB9QfuAh/BuDDF0tH9d94",
      "include_colab_link": true
    },
    "kernelspec": {
      "name": "python3",
      "display_name": "Python 3"
    },
    "language_info": {
      "name": "python"
    }
  },
  "cells": [
    {
      "cell_type": "markdown",
      "metadata": {
        "id": "view-in-github",
        "colab_type": "text"
      },
      "source": [
        "<a href=\"https://colab.research.google.com/github/saitarun18/OOP---20BCS096/blob/main/20bcs096_Sai_Tarun_Parasa_OOPTask_1.ipynb\" target=\"_parent\"><img src=\"https://colab.research.google.com/assets/colab-badge.svg\" alt=\"Open In Colab\"/></a>"
      ]
    },
    {
      "cell_type": "code",
      "metadata": {
        "colab": {
          "base_uri": "https://localhost:8080/"
        },
        "id": "P_AXksm2X6gu",
        "outputId": "5e765603-64c1-4ce0-ac56-e91440a8642e"
      },
      "source": [
        "def is_leap(year) :\n",
        "  leap = False\n",
        "\n",
        "  if year % 400 == 0:\n",
        "    leap = True\n",
        "  elif year % 100 == 0:\n",
        "    leap = False\n",
        "  elif year % 4 == 0 :\n",
        "    leap = True\n",
        "\n",
        "  return leap\n",
        "\n",
        "year = int(input())\n",
        "print(is_leap(year))"
      ],
      "execution_count": 1,
      "outputs": [
        {
          "output_type": "stream",
          "name": "stdout",
          "text": [
            "2020\n",
            "True\n"
          ]
        }
      ]
    },
    {
      "cell_type": "code",
      "metadata": {
        "colab": {
          "base_uri": "https://localhost:8080/"
        },
        "id": "cueU_4uMYN-u",
        "outputId": "29f4e890-2be8-4c76-eb3f-1c9caaed451d"
      },
      "source": [
        "n = int(input())\n",
        "if n % 2 != 0 :\n",
        "  print(\"Weird\")\n",
        "else:\n",
        "  if n >= 2 and n<= 5:\n",
        "    print(\"Not Weird\")\n",
        "  elif n >= 6 and n <= 20 :\n",
        "    print(\"Weird\")\n",
        "  elif n > 20 :\n",
        "    print(\"Not Weird\")"
      ],
      "execution_count": 2,
      "outputs": [
        {
          "output_type": "stream",
          "name": "stdout",
          "text": [
            "36\n",
            "Not Weird\n"
          ]
        }
      ]
    },
    {
      "cell_type": "code",
      "metadata": {
        "colab": {
          "base_uri": "https://localhost:8080/"
        },
        "id": "RaAAdyTcYV6e",
        "outputId": "5fee7813-d445-46dc-904e-c9d093795c0e"
      },
      "source": [
        "def fashionably_late(arrivals) :\n",
        "  for person in arrivals :\n",
        "    index = arrivals.index(person)\n",
        "    if index >= int(len(arrivals)/2) and index != len(arrivals)-1:\n",
        "     print(person)\n",
        "arrivals = ['Hardik','Rahul','Virat','Rishabh','Mahi','Rohith','Rahane']   \n",
        "fashionably_late(arrivals)"
      ],
      "execution_count": 3,
      "outputs": [
        {
          "output_type": "stream",
          "name": "stdout",
          "text": [
            "Rishabh\n",
            "Mahi\n",
            "Rohith\n"
          ]
        }
      ]
    },
    {
      "cell_type": "code",
      "metadata": {
        "colab": {
          "base_uri": "https://localhost:8080/"
        },
        "id": "3svrNac9YdFb",
        "outputId": "fcd780ee-fe49-46bd-eb26-223519d477c4"
      },
      "source": [
        "def word_search(doc_list,keyword):\n",
        "  for i in doc_list:\n",
        "      keyword = keyword.lower()\n",
        "      m = i.replace(\".\",\"\")\n",
        "      m = i.replace(\",\",\"\")\n",
        "      k = m.split()\n",
        "      for j in k:\n",
        "        j = j.lower()\n",
        "        if j == keyword:\n",
        "          print(i)\n",
        "k = [\"The tiger ate tiger.\",\"The learn Python Challenge tigers.\",\"bangloreTiger\",\"lion,love.tiger\",\"they bought finally .tiger\",\"and also ate ,tiger\",\"Tiger\"]\n",
        "word = input('Enter a word to search : ')\n",
        "word_search(k,word)"
      ],
      "execution_count": 4,
      "outputs": [
        {
          "output_type": "stream",
          "name": "stdout",
          "text": [
            "Enter a word to search : tiger\n",
            "The tiger ate tiger.\n",
            "and also ate ,tiger\n",
            "Tiger\n"
          ]
        }
      ]
    },
    {
      "cell_type": "code",
      "metadata": {
        "colab": {
          "base_uri": "https://localhost:8080/"
        },
        "id": "aanWeWJzYlrN",
        "outputId": "003dda53-af52-4122-9e8e-9f640280481d"
      },
      "source": [
        "def Total_Gross_pay(basic_pay): \n",
        "  if (basic_pay < 0) :\n",
        "    print(\"The Amount entered Couldn't be Negative Please enter the correct amount !!\")\n",
        "  else :\n",
        "    DA  = (basic_pay * 40)/100\n",
        "    HRA = (basic_pay * 20)/100\n",
        "    Gross_pay = basic_pay + DA + HRA\n",
        "    print(\"\\nDearness Allowance 40% of Basic Payment   :\", DA)\n",
        "    print(\"House Rent Allowance 20% of Basic Payment :\", HRA)\n",
        "    print(\"Gross Payment of the Employee             :\", Gross_pay)\n",
        "  return (basic_pay + DA + HRA)\n",
        "\n",
        "basic_pay = float(input(\"Enter The Basic Salary : \"))\n",
        "\n",
        "Gross_pay = Total_Gross_pay(basic_pay)"
      ],
      "execution_count": 7,
      "outputs": [
        {
          "output_type": "stream",
          "name": "stdout",
          "text": [
            "Enter The Basic Salary : 45614.45\n",
            "\n",
            "Dearness Allowance 40% of Basic Payment   : 18245.78\n",
            "House Rent Allowance 20% of Basic Payment : 9122.89\n",
            "Gross Payment of the Employee             : 72983.12\n"
          ]
        }
      ]
    }
  ]
}