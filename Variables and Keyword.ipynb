{
 "cells": [
  {
   "cell_type": "code",
   "execution_count": 4,
   "id": "studied-boxing",
   "metadata": {},
   "outputs": [
    {
     "name": "stdout",
     "output_type": "stream",
     "text": [
      "40\n",
      "<class 'int'>\n",
      "78.45\n",
      "<class 'float'>\n",
      "This is Python\n",
      "<class 'str'>\n",
      "True\n",
      "<class 'bool'>\n",
      "118.45\n",
      "-38.45\n"
     ]
    }
   ],
   "source": [
    "#Variables : Place holder for texts and numbers that is used to store a value\n",
    "var1 = 40\n",
    "var2 = 78.45\n",
    "var3 = 'This is Python'\n",
    "var4 = True\n",
    "print(var1)\n",
    "print(type(var1))\n",
    "print(var2)\n",
    "print(type(var2))\n",
    "print(var3)\n",
    "print(type(var3))\n",
    "print(var4)\n",
    "print(type(var4))\n",
    "var1+var2          #addition of two numbers\n",
    "print(var1+var2)\n",
    "var1-var2          #subtraction of two numbers\n",
    "print(var1-var2)"
   ]
  },
  {
   "cell_type": "code",
   "execution_count": 5,
   "id": "mexican-prefix",
   "metadata": {},
   "outputs": [
    {
     "name": "stdout",
     "output_type": "stream",
     "text": [
      "Hydrogen\n",
      "H\n",
      "56\n",
      "var=10\t VAR=20\t Var=30\t\n"
     ]
    }
   ],
   "source": [
    "#Identifiers represent the name of variables, functions, arrays ,labels etc\n",
    "element1 = 'Hydrogen'\n",
    "print(element1)\n",
    "element_1 = 'H'           #only underscore is used from special symbols\n",
    "print(element_1)\n",
    "#3element : identifiers cannot start with numbers \n",
    "total = 56\n",
    "print(total)\n",
    "var = 10\n",
    "VAR = 20\n",
    "Var = 30\n",
    "print(f'var={var}\\t VAR={VAR}\\t Var={Var}\\t')\n"
   ]
  },
  {
   "cell_type": "code",
   "execution_count": 9,
   "id": "stable-motor",
   "metadata": {},
   "outputs": [
    {
     "data": {
      "text/plain": [
       "['False',\n",
       " 'None',\n",
       " 'True',\n",
       " '__peg_parser__',\n",
       " 'and',\n",
       " 'as',\n",
       " 'assert',\n",
       " 'async',\n",
       " 'await',\n",
       " 'break',\n",
       " 'class',\n",
       " 'continue',\n",
       " 'def',\n",
       " 'del',\n",
       " 'elif',\n",
       " 'else',\n",
       " 'except',\n",
       " 'finally',\n",
       " 'for',\n",
       " 'from',\n",
       " 'global',\n",
       " 'if',\n",
       " 'import',\n",
       " 'in',\n",
       " 'is',\n",
       " 'lambda',\n",
       " 'nonlocal',\n",
       " 'not',\n",
       " 'or',\n",
       " 'pass',\n",
       " 'raise',\n",
       " 'return',\n",
       " 'try',\n",
       " 'while',\n",
       " 'with',\n",
       " 'yield']"
      ]
     },
     "execution_count": 9,
     "metadata": {},
     "output_type": "execute_result"
    }
   ],
   "source": [
    "#Keywords are the reserved words which couldn't be replaced by identifiers \n",
    "import keyword\n",
    "keyword.kwlist"
   ]
  },
  {
   "cell_type": "code",
   "execution_count": 10,
   "id": "unable-sally",
   "metadata": {},
   "outputs": [
    {
     "name": "stdout",
     "output_type": "stream",
     "text": [
      "56\n",
      "204\n",
      "['lion', 'tiger', 'cheeta', 'deer', 'Bear', 'Rhino']\n"
     ]
    }
   ],
   "source": [
    "#Comments\n",
    "#this is a single line comment\n",
    "'''multiple\n",
    "         line \n",
    "             statement'''\n",
    "var1 = 56          #assignment statement\n",
    "var2 = (70+56+\n",
    "              78)  #multilpe line assignment statement\n",
    "lis = [\"lion\",\"tiger\",\"cheeta\",\"deer\",\n",
    "                                       \"Bear\",\"Rhino\"]\n",
    "print(var1)\n",
    "print(var2)\n",
    "print(lis)\n"
   ]
  },
  {
   "cell_type": "code",
   "execution_count": 12,
   "id": "blessed-mumbai",
   "metadata": {},
   "outputs": [
    {
     "name": "stdout",
     "output_type": "stream",
     "text": [
      "0\n",
      "1\n",
      "2\n",
      "3\n",
      "4\n",
      "5\n",
      "6\n",
      "7\n",
      "8\n",
      "The Value of b is 3\n",
      "The process is correct\n",
      "the value of b is only 3\n",
      "Ohh The Value of b Changed\n",
      "This is python Indentation\n"
     ]
    }
   ],
   "source": [
    "#Python Indentation\n",
    "for a in range(0,9):\n",
    "    print(a)\n",
    "b=3\n",
    "if b==3:\n",
    "    print(\"The Value of b is 3\")\n",
    "    print(\"The process is correct\")\n",
    "    if b==3:\n",
    "        print(\"the value of b is only 3\")\n",
    "        b=5\n",
    "        if b==5:\n",
    "            print(\"Ohh The Value of b Changed\")\n",
    "            b=7\n",
    "            if b==7:\n",
    "                print(\"This is python Indentation\")\n",
    "                \n",
    "            else :\n",
    "                print(\"Just stop now\")\n",
    "                print(\"Finished\")\n",
    "    if a==5:\n",
    "        a=7\n",
    "        if a==7:\n",
    "            print(a)"
   ]
  },
  {
   "cell_type": "code",
   "execution_count": null,
   "id": "occasional-memphis",
   "metadata": {},
   "outputs": [],
   "source": []
  },
  {
   "cell_type": "code",
   "execution_count": null,
   "id": "complicated-carroll",
   "metadata": {},
   "outputs": [],
   "source": []
  }
 ],
 "metadata": {
  "kernelspec": {
   "display_name": "Python 3",
   "language": "python",
   "name": "python3"
  },
  "language_info": {
   "codemirror_mode": {
    "name": "ipython",
    "version": 3
   },
   "file_extension": ".py",
   "mimetype": "text/x-python",
   "name": "python",
   "nbconvert_exporter": "python",
   "pygments_lexer": "ipython3",
   "version": "3.9.1"
  }
 },
 "nbformat": 4,
 "nbformat_minor": 5
}
