{
  "nbformat": 4,
  "nbformat_minor": 0,
  "metadata": {
    "colab": {
      "name": "20bcs096_Sai Tarun Parasa_OOOPTask-4.ipynb",
      "provenance": [],
      "authorship_tag": "ABX9TyOMdL2wfzH0ng+pBGMyy/hZ",
      "include_colab_link": true
    },
    "kernelspec": {
      "name": "python3",
      "display_name": "Python 3"
    },
    "language_info": {
      "name": "python"
    }
  },
  "cells": [
    {
      "cell_type": "markdown",
      "metadata": {
        "id": "view-in-github",
        "colab_type": "text"
      },
      "source": [
        "<a href=\"https://colab.research.google.com/github/saitarun18/OOP---20BCS096/blob/main/20bcs096_Sai_Tarun_Parasa_OOOPTask_4.ipynb\" target=\"_parent\"><img src=\"https://colab.research.google.com/assets/colab-badge.svg\" alt=\"Open In Colab\"/></a>"
      ]
    },
    {
      "cell_type": "code",
      "metadata": {
        "colab": {
          "base_uri": "https://localhost:8080/"
        },
        "id": "4ewS8XpUOlll",
        "outputId": "45f87296-5315-4f6d-f0aa-e149e36b22cc"
      },
      "source": [
        "# Problem-1\n",
        "\n",
        "class Node:\n",
        "  def __init__(self, data):\n",
        "    self.data = data\n",
        "    self.next = None\n",
        "  def __del__(self):\n",
        "    print(self.data, \"Deleted successfully\")\n",
        "\n",
        "class Stack:\n",
        "  def __init__(self, data):\n",
        "    self.top = Node(data)\n",
        "    print(self.top.data ,\"Added to stack\")\n",
        "  \n",
        "  def add(self, data):\n",
        "    new = Node(data)\n",
        "    new.next = self.top\n",
        "    self.top = new\n",
        "    print(self.top.data, \"Added to stack\")\n",
        "  \n",
        "  def remove(self):\n",
        "    try:\n",
        "      del_node = self.top\n",
        "      self.top = self.top.next\n",
        "      del del_node\n",
        "\n",
        "    except AttributeError:\n",
        "      print(\"Cannot remove any more elements from the stack as it is empty\")\n",
        "\n",
        "  def view(self):\n",
        "    print(\"The elements of the stack are : \",sep = ' ')\n",
        "    curr_node = self.top\n",
        "    while curr_node.next is not None:\n",
        "      print(curr_node.data, sep=' ')\n",
        "      curr_node = curr_node.next\n",
        "    print(curr_node.data)\n",
        "    print()\n",
        "\n",
        "  def Is_empty(self):\n",
        "    try:\n",
        "      print(\"Stack is not empty and it begins with\", self.top.data)\n",
        "    except AttributeError:\n",
        "      print(\"Stack is empty\")\n",
        "\n",
        "  def __del__(self):\n",
        "    curr_node = self.top\n",
        "    while curr_node.next is not None:\n",
        "      del_node = curr_node\n",
        "      curr_node = curr_node.next\n",
        "      del del_node\n",
        "    del curr_node\n",
        "    print(\"Stack Deleted\")\n",
        "\n",
        "\n",
        "S = Stack(1)\n",
        "S.add('C')\n",
        "S.add(5)\n",
        "S.add(10)\n",
        "S.add(0.96)\n",
        "S.add(True)\n",
        "S.view()\n",
        "S.Is_empty()\n",
        "S.remove()\n",
        "S.remove()\n",
        "S.add('K')\n",
        "S.view()\n",
        "S.Is_empty()\n",
        "del S"
      ],
      "execution_count": null,
      "outputs": [
        {
          "output_type": "stream",
          "name": "stdout",
          "text": [
            "1 Added to stack\n",
            "C Added to stack\n",
            "5 Added to stack\n",
            "10 Added to stack\n",
            "0.96 Added to stack\n",
            "True Added to stack\n",
            "The elements of the stack are : \n",
            "True\n",
            "0.96\n",
            "10\n",
            "5\n",
            "C\n",
            "1\n",
            "\n",
            "Stack is not empty and it begins with True\n",
            "True Deleted successfully\n",
            "0.96 Deleted successfully\n",
            "K Added to stack\n",
            "The elements of the stack are : \n",
            "K\n",
            "10\n",
            "5\n",
            "C\n",
            "1\n",
            "\n",
            "Stack is not empty and it begins with K\n",
            "Stack Deleted\n",
            "K Deleted successfully\n",
            "10 Deleted successfully\n",
            "5 Deleted successfully\n",
            "C Deleted successfully\n",
            "1 Deleted successfully\n"
          ]
        }
      ]
    },
    {
      "cell_type": "code",
      "metadata": {
        "colab": {
          "base_uri": "https://localhost:8080/"
        },
        "id": "X_IhoThdC-Qs",
        "outputId": "77fe518d-1bb3-457f-b49d-8e97d2ed212a"
      },
      "source": [
        "#Problem - 2\n",
        "\n",
        "class Rectangle1:\n",
        "    def __init__(self):                                            # Default constructor\n",
        "        self.length = int(input(\"Enter length of rectangle: \"))\n",
        "        self.breadth = int(input(\"Enter breadth of rectangle: \"))\n",
        "    \n",
        "    def area(self):\n",
        "        return self.length*self.breadth\n",
        "\n",
        "class Rectangle2(Rectangle1):\n",
        "    def __init__(self, length, breadth):                           # Parameterized constructor\n",
        "        self.length = length\n",
        "        self.breadth = breadth\n",
        "\n",
        "rectangle1 = Rectangle1()\n",
        "rectangle2 = Rectangle2(3,9)\n",
        "print(\"Area =\",rectangle1.area())\n",
        "print(\"Area =\",rectangle2.area())\n"
      ],
      "execution_count": null,
      "outputs": [
        {
          "output_type": "stream",
          "name": "stdout",
          "text": [
            "Enter length of rectangle: 6\n",
            "Enter breadth of rectangle: 9\n",
            "Area = 54\n",
            "Area = 27\n"
          ]
        }
      ]
    },
    {
      "cell_type": "code",
      "metadata": {
        "colab": {
          "base_uri": "https://localhost:8080/"
        },
        "id": "xokcinB-Eczb",
        "outputId": "12baf11f-2c7e-4497-fe60-2b2da0cfcfb3"
      },
      "source": [
        "#Problem - 3\n",
        "\n",
        "class Node:\n",
        "  def __init__(self, data):\n",
        "    self.data = data\n",
        "    self.next = None\n",
        "  def __del__(self):\n",
        "    print(self.data, \"Deleted Successfully\")\n",
        "\n",
        "class Queue:\n",
        "  def __init__(self, data):\n",
        "    self.front = self.end = Node(data)\n",
        "    print(self.front.data,\"Added to queue\")\n",
        "  \n",
        "  def add(self, data):\n",
        "    new_node = Node(data)\n",
        "    self.end.next = new_node\n",
        "    self.end = new_node\n",
        "    print(self.end.data, \"Added to queue\")\n",
        "  \n",
        "  def remove(self):\n",
        "    try:\n",
        "      del_node = self.front\n",
        "      self.front = self.front.next\n",
        "      del del_node\n",
        "    except AttributeError:\n",
        "      print(\"Cannot remove any more elements from the stack as it is empty\")\n",
        "\n",
        "  def view(self):\n",
        "    print(\"Elements of the Queue are:\")\n",
        "    curr_node = self.front\n",
        "    while curr_node != self.end:\n",
        "      print(curr_node.data)\n",
        "      curr_node = curr_node.next\n",
        "    print(curr_node.data)\n",
        "    print()\n",
        "  \n",
        "  def Is_empty(self):\n",
        "    try:\n",
        "      print(\"The Queue starts with\", self.front.data ,\"and ends with\", self.end.data )\n",
        "    except AttributeError:\n",
        "      print(\"Queue is empty...\")\n",
        "\n",
        "  def __del__(self):\n",
        "    curr_node = self.front\n",
        "    while curr_node != self.end:\n",
        "      del_node = curr_node\n",
        "      curr_node = curr_node.next\n",
        "      del del_node\n",
        "    del curr_node\n",
        "    print(\"Queue deleted\")\n",
        "\n",
        "\n",
        "Q = Queue(1)\n",
        "Q.add(5)\n",
        "Q.add(10)\n",
        "Q.add(\"Element\")\n",
        "Q.view()\n",
        "Q.Is_empty()\n",
        "Q.remove()\n",
        "Q.remove()\n",
        "Q.add('C')\n",
        "Q.view()\n",
        "del Q\n"
      ],
      "execution_count": null,
      "outputs": [
        {
          "output_type": "stream",
          "name": "stdout",
          "text": [
            "1 Added to queue\n",
            "5 Added to queue\n",
            "10 Added to queue\n",
            "Element Added to queue\n",
            "Elements of the Queue are:\n",
            "1\n",
            "5\n",
            "10\n",
            "Element\n",
            "\n",
            "The Queue starts with 1 and ends with Element\n",
            "1 Deleted Successfully\n",
            "5 Deleted Successfully\n",
            "C Added to queue\n",
            "Elements of the Queue are:\n",
            "10\n",
            "Element\n",
            "C\n",
            "\n",
            "Queue deleted\n",
            "10 Deleted Successfully\n",
            "Element Deleted Successfully\n",
            "C Deleted Successfully\n"
          ]
        }
      ]
    }
  ]
}